{
  "nbformat": 4,
  "nbformat_minor": 0,
  "metadata": {
    "colab": {
      "name": "ChatBot.ipynb",
      "provenance": [],
      "authorship_tag": "ABX9TyNgtdZczZX3S2sdiUF3QFp2",
      "include_colab_link": true
    },
    "kernelspec": {
      "name": "python3",
      "display_name": "Python 3"
    },
    "language_info": {
      "name": "python"
    }
  },
  "cells": [
    {
      "cell_type": "markdown",
      "metadata": {
        "id": "view-in-github",
        "colab_type": "text"
      },
      "source": [
        "<a href=\"https://colab.research.google.com/github/rishab1729/ChatterBot/blob/master/ChatBot.ipynb\" target=\"_parent\"><img src=\"https://colab.research.google.com/assets/colab-badge.svg\" alt=\"Open In Colab\"/></a>"
      ]
    },
    {
      "cell_type": "code",
      "execution_count": 1,
      "metadata": {
        "colab": {
          "base_uri": "https://localhost:8080/"
        },
        "id": "uiyUWVF3lHJR",
        "outputId": "c83f8af7-7bbf-4f08-c72f-2c2ff41016af"
      },
      "outputs": [
        {
          "output_type": "stream",
          "name": "stdout",
          "text": [
            "Collecting chatterbot\n",
            "  Downloading ChatterBot-1.0.8-py2.py3-none-any.whl (63 kB)\n",
            "\u001b[?25l\r\u001b[K     |█████▏                          | 10 kB 23.3 MB/s eta 0:00:01\r\u001b[K     |██████████▎                     | 20 kB 29.0 MB/s eta 0:00:01\r\u001b[K     |███████████████▌                | 30 kB 24.6 MB/s eta 0:00:01\r\u001b[K     |████████████████████▋           | 40 kB 17.9 MB/s eta 0:00:01\r\u001b[K     |█████████████████████████▊      | 51 kB 11.2 MB/s eta 0:00:01\r\u001b[K     |███████████████████████████████ | 61 kB 11.4 MB/s eta 0:00:01\r\u001b[K     |████████████████████████████████| 63 kB 1.9 MB/s \n",
            "\u001b[?25hCollecting mathparse<0.2,>=0.1\n",
            "  Downloading mathparse-0.1.2-py3-none-any.whl (7.2 kB)\n",
            "Requirement already satisfied: pytz in /usr/local/lib/python3.7/dist-packages (from chatterbot) (2018.9)\n",
            "Collecting sqlalchemy<1.4,>=1.3\n",
            "  Downloading SQLAlchemy-1.3.24-cp37-cp37m-manylinux2010_x86_64.whl (1.3 MB)\n",
            "\u001b[K     |████████████████████████████████| 1.3 MB 22.7 MB/s \n",
            "\u001b[?25hRequirement already satisfied: python-dateutil<2.9,>=2.8 in /usr/local/lib/python3.7/dist-packages (from chatterbot) (2.8.2)\n",
            "Requirement already satisfied: six>=1.5 in /usr/local/lib/python3.7/dist-packages (from python-dateutil<2.9,>=2.8->chatterbot) (1.15.0)\n",
            "Installing collected packages: sqlalchemy, mathparse, chatterbot\n",
            "  Attempting uninstall: sqlalchemy\n",
            "    Found existing installation: SQLAlchemy 1.4.32\n",
            "    Uninstalling SQLAlchemy-1.4.32:\n",
            "      Successfully uninstalled SQLAlchemy-1.4.32\n",
            "Successfully installed chatterbot-1.0.8 mathparse-0.1.2 sqlalchemy-1.3.24\n"
          ]
        }
      ],
      "source": [
        "pip install chatterbot"
      ]
    },
    {
      "cell_type": "code",
      "source": [
        "pip install chatterbot corpus"
      ],
      "metadata": {
        "colab": {
          "base_uri": "https://localhost:8080/"
        },
        "id": "8FxCDGOUnGdH",
        "outputId": "cc9f30c2-58b6-4b61-f594-113a2d78f735"
      },
      "execution_count": 2,
      "outputs": [
        {
          "output_type": "stream",
          "name": "stdout",
          "text": [
            "Requirement already satisfied: chatterbot in /usr/local/lib/python3.7/dist-packages (1.0.8)\n",
            "Collecting corpus\n",
            "  Downloading Corpus-0.4.2.tar.gz (88 kB)\n",
            "\u001b[K     |████████████████████████████████| 88 kB 4.7 MB/s \n",
            "\u001b[?25hRequirement already satisfied: pytz in /usr/local/lib/python3.7/dist-packages (from chatterbot) (2018.9)\n",
            "Requirement already satisfied: python-dateutil<2.9,>=2.8 in /usr/local/lib/python3.7/dist-packages (from chatterbot) (2.8.2)\n",
            "Requirement already satisfied: sqlalchemy<1.4,>=1.3 in /usr/local/lib/python3.7/dist-packages (from chatterbot) (1.3.24)\n",
            "Requirement already satisfied: mathparse<0.2,>=0.1 in /usr/local/lib/python3.7/dist-packages (from chatterbot) (0.1.2)\n",
            "Requirement already satisfied: six>=1.5 in /usr/local/lib/python3.7/dist-packages (from python-dateutil<2.9,>=2.8->chatterbot) (1.15.0)\n",
            "Building wheels for collected packages: corpus\n",
            "  Building wheel for corpus (setup.py) ... \u001b[?25l\u001b[?25hdone\n",
            "  Created wheel for corpus: filename=Corpus-0.4.2-py3-none-any.whl size=88797 sha256=ecd63963981429cc7f7acaabc1ce428805c38d6af0f914258fb438e993923bdf\n",
            "  Stored in directory: /root/.cache/pip/wheels/38/93/f8/4fa4f61d28125ccb140e8c5bb47dac6e2560b3aec2a0eb8d5d\n",
            "Successfully built corpus\n",
            "Installing collected packages: corpus\n",
            "Successfully installed corpus-0.4.2\n"
          ]
        }
      ]
    },
    {
      "cell_type": "code",
      "source": [
        "from chatterbot import ChatBot"
      ],
      "metadata": {
        "id": "xNF2_xwsnQEO"
      },
      "execution_count": 3,
      "outputs": []
    },
    {
      "cell_type": "code",
      "source": [
        "bot =  ChatBot('Eva')"
      ],
      "metadata": {
        "id": "CANVfQ04nvEU"
      },
      "execution_count": 4,
      "outputs": []
    },
    {
      "cell_type": "code",
      "source": [
        "from chatterbot.trainers import ListTrainer"
      ],
      "metadata": {
        "id": "TvRVhQIBn3ey"
      },
      "execution_count": 5,
      "outputs": []
    },
    {
      "cell_type": "code",
      "source": [
        "bot = ChatBot(\n",
        "    'Eva',\n",
        "    logic_adapters = ['chatterbot.logic.BestMatch','chatterbot.logic.TimeLogicAdapter',]\n",
        ")"
      ],
      "metadata": {
        "id": "d2NdNLGKoP56"
      },
      "execution_count": 7,
      "outputs": []
    },
    {
      "cell_type": "code",
      "source": [
        "trainer = ListTrainer(bot)"
      ],
      "metadata": {
        "id": "kdcBqPLPo-Rk"
      },
      "execution_count": 8,
      "outputs": []
    },
    {
      "cell_type": "code",
      "source": [
        "trainer.train([\n",
        "'Hi',\n",
        "'Hello',\n",
        "'I need your assistance regarding my order',\n",
        "'Please, provide me with your order id',\n",
        "'I have a complaint.',\n",
        "'Please elaborate, your concern',\n",
        "'How long it will take to receive an order?',\n",
        "'An order takes 3-5 Business days to get delivered.',\n",
        "'Okay Thanks',\n",
        "'No Problem! Have a Good Day!'\n",
        "])\n"
      ],
      "metadata": {
        "colab": {
          "base_uri": "https://localhost:8080/"
        },
        "id": "fE0VU2rcpKNy",
        "outputId": "923a9679-118f-4c0f-a435-c002c79dd5ef"
      },
      "execution_count": 9,
      "outputs": [
        {
          "output_type": "stream",
          "name": "stdout",
          "text": [
            "List Trainer: [####################] 100%\n"
          ]
        }
      ]
    },
    {
      "cell_type": "code",
      "source": [
        "response = bot.get_response('I have a complaint.')"
      ],
      "metadata": {
        "id": "nuH8zNhnqhnX"
      },
      "execution_count": 10,
      "outputs": []
    },
    {
      "cell_type": "code",
      "source": [
        "print(\"Welcome to the Bot Service! Let me know can i help you?\")\n",
        "\n",
        "while True:\n",
        "  request = input(\"ABC:\")\n",
        "  if request=='Bye' or request == 'bye':\n",
        "    print('Bot:Bye')\n",
        "    break\n",
        "  else:\n",
        "    response = bot.get_response(request)\n",
        "    print('Bot:',response)\n"
      ],
      "metadata": {
        "colab": {
          "base_uri": "https://localhost:8080/"
        },
        "id": "n-oDaYuQqr5O",
        "outputId": "56bcebd7-741c-4949-8a4f-d6703d65f6a2"
      },
      "execution_count": 12,
      "outputs": [
        {
          "output_type": "stream",
          "name": "stdout",
          "text": [
            "Welcome to the Bot Service! Let me know can i help you?\n",
            "ABC:Hi\n",
            "Bot: Hello\n",
            "ABC:I have a complaint.\n",
            "Bot: Please elaborate, your concern\n",
            "ABC:How long it will take to receive an order?\n",
            "Bot: An order takes 3-5 Business days to get delivered.\n",
            "ABC:Okay Thanks\n",
            "Bot: No Problem! Have a Good Day!\n",
            "ABC:bye\n",
            "Bot:Bye\n"
          ]
        }
      ]
    }
  ]
}